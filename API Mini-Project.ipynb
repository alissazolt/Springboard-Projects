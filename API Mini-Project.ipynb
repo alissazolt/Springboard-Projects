{
 "cells": [
  {
   "cell_type": "markdown",
   "id": "1cf0cb3b",
   "metadata": {},
   "source": [
    "# API Mini Project <br>\n",
    "This exercise will require you to pull some data from the Qunadl API. Qaundl is currently the most widely used aggregator of financial market data. <br>\n",
    "As a first step, you will need to register a free account on the http://www.quandl.com website. <br>\n",
    "\n",
    "After you register, you will be provided with a unique API key, that you should store:"
   ]
  },
  {
   "cell_type": "code",
   "execution_count": 6,
   "id": "3252fcfd",
   "metadata": {},
   "outputs": [],
   "source": [
    "# Store the API key as a string - according to PEP8, constants are always named in all upper case\n",
    "API_KEY = 'm7MVtCAqbCxDrFk9VbEj'"
   ]
  },
  {
   "cell_type": "markdown",
   "id": "ba924658",
   "metadata": {},
   "source": [
    "Qaundl has a large number of data sources, but, unfortunately, most of them require a Premium subscription. Still, there are also a good number of free datasets. <br>\n",
    "\n",
    "For this mini project, we will focus on equities data from the Frankfurt Stock Exhange (FSE), which is available for free. We'll try and analyze the stock prices of a company called Carl Zeiss Meditec, which manufactures tools for eye examinations, as well as medical lasers for laser eye surgery: <br>https://www.zeiss.com/meditec/int/home.html. The company is listed under the stock ticker AFX_X.\n",
    "<br>\n",
    "<br>\n",
    "You can find the detailed Quandl API instructions here: <br>https://docs.quandl.com/docs/time-series\n",
    "<br>\n",
    "<br>\n",
    "While there is a dedicated Python package for connecting to the Quandl API, we would prefer that you use the requests package, which can be easily downloaded using pip or conda. You can find the documentation for the package here: <br> http://docs.python-requests.org/en/master/\n",
    "<br>\n",
    "<br>\n",
    "Finally, apart from the requests package, you are encouraged to not use any third party Python packages, such as pandas, and instead focus on what's available in the Python Standard Library (the collections module might come in handy: https://pymotw.com/3/collections/). Also, since you won't have access to DataFrames, you are encouraged to us Python's native data structures - preferably dictionaries, though some questions can also be answered using lists. You can read more on these data structures here: <br> https://docs.python.org/3/tutorial/datastructures.html\n",
    "<br>\n",
    "<br>\n",
    "Keep in mind that the JSON responses you will be getting from the API map almost one-to-one to Python's dictionaries. Unfortunately, they can be very nested, so make sure you read up on indexing dictionaries in the documentation provided above."
   ]
  },
  {
   "cell_type": "code",
   "execution_count": 7,
   "id": "3ed2fb52",
   "metadata": {},
   "outputs": [],
   "source": [
    "# First, import the relevant modules\n",
    "import requests"
   ]
  },
  {
   "cell_type": "code",
   "execution_count": 8,
   "id": "30f69003",
   "metadata": {},
   "outputs": [],
   "source": [
    "# Now, call the Quandl API and pull out a small sample of the data (only one day) to get a glimpse\n",
    "# into the JSON structure that will be returned\n",
    "url = 'https://www.quandl.com/api/v3/datasets/FSE/AFX_X/data.json?api_key='+API_KEY\\\n",
    "+'&start_date=2018-05-18&end_date=2018-05-18'\n",
    "r = requests.get(url)"
   ]
  },
  {
   "cell_type": "code",
   "execution_count": 9,
   "id": "61b3cf69",
   "metadata": {},
   "outputs": [
    {
     "name": "stdout",
     "output_type": "stream",
     "text": [
      "{'dataset_data': {'limit': None, 'transform': None, 'column_index': None, 'column_names': ['Date', 'Open', 'High', 'Low', 'Close', 'Change', 'Traded Volume', 'Turnover', 'Last Price of the Day', 'Daily Traded Units', 'Daily Turnover'], 'start_date': '2018-05-18', 'end_date': '2018-05-18', 'frequency': 'daily', 'data': [['2018-05-18', None, 59.0, 57.1, 57.95, None, 81077.0, 4707479.0, None, None, None]], 'collapse': None, 'order': None}}\n"
     ]
    }
   ],
   "source": [
    "# Inspect the JSON structure of the object you created, and take note of how nested it is,\n",
    "# as well as the overall structure\n",
    "json_data = r.json()\n",
    "print(json_data)"
   ]
  },
  {
   "cell_type": "markdown",
   "id": "0a64955b",
   "metadata": {},
   "source": [
    "### 1.Collect data from the Franfurt Stock Exchange, for the ticker AFX_X, for the whole year 2017 (keep in mind that the date format is YYYY-MM-DD)."
   ]
  },
  {
   "cell_type": "code",
   "execution_count": 10,
   "id": "b0bdc95e",
   "metadata": {},
   "outputs": [],
   "source": [
    "url = 'https://www.quandl.com/api/v3/datasets/FSE/AFX_X/data.json?api_key='+API_KEY\\\n",
    "+'&start_date=2017-01-01&end_date=2017-12-31'\n",
    "r = requests.get(url)"
   ]
  },
  {
   "cell_type": "markdown",
   "id": "20edeac1",
   "metadata": {},
   "source": [
    "### 2. Convert the returned JSON object into a Python dictionary."
   ]
  },
  {
   "cell_type": "code",
   "execution_count": 11,
   "id": "2cf3acae",
   "metadata": {},
   "outputs": [],
   "source": [
    "data = r.json()"
   ]
  },
  {
   "cell_type": "markdown",
   "id": "dd9528e0",
   "metadata": {},
   "source": [
    "### 3. Calculate what the highest and lowest opening prices were for the stock in this period."
   ]
  },
  {
   "cell_type": "code",
   "execution_count": 12,
   "id": "e61ef9a6",
   "metadata": {},
   "outputs": [
    {
     "name": "stdout",
     "output_type": "stream",
     "text": [
      "Highest and lowest opening prices in 2017 were 53.11 and 34.0\n"
     ]
    }
   ],
   "source": [
    "#Find the index of opening price\n",
    "idx = data['dataset_data']['column_names'].index('Open')\n",
    "#Some opening prices were None\n",
    "open_price = [day[idx] for day in data['dataset_data']['data'] if day[idx]]\n",
    "print('Highest and lowest opening prices in 2017 were {} and {}'.format(max(open_price), min(open_price)))"
   ]
  },
  {
   "cell_type": "markdown",
   "id": "e9eae612",
   "metadata": {},
   "source": [
    "### 5. What was the largest change between any two days (based on Closing Price)?"
   ]
  },
  {
   "cell_type": "code",
   "execution_count": 13,
   "id": "71bc1247",
   "metadata": {},
   "outputs": [
    {
     "name": "stdout",
     "output_type": "stream",
     "text": [
      "The largest chagne between any two days in 2017 was 2.56\n"
     ]
    }
   ],
   "source": [
    "#Find the index of closing price\n",
    "idx = data['dataset_data']['column_names'].index('Close')\n",
    "#Extract closing price\n",
    "closing = [day[idx] for day in data['dataset_data']['data']]\n",
    "#Calculate change between everyday and the day before\n",
    "change_two_days = [abs(closing[index]-closing[index-1]) for index, value in enumerate(closing) if index > 0]\n",
    "print('The largest chagne between any two days in 2017 was {:.2f}'.format(max(change_two_days)))"
   ]
  },
  {
   "cell_type": "markdown",
   "id": "eb471676",
   "metadata": {},
   "source": [
    "### 6. What was the average daily trading volume during this year?"
   ]
  },
  {
   "cell_type": "code",
   "execution_count": 15,
   "id": "7e460bfd",
   "metadata": {},
   "outputs": [
    {
     "name": "stdout",
     "output_type": "stream",
     "text": [
      "The average daily trading volumne in 2017 was 89124.34\n"
     ]
    }
   ],
   "source": [
    "#Find the index of volume\n",
    "idx = data['dataset_data']['column_names'].index('Traded Volume')\n",
    "#Extract trading volume\n",
    "volume = [day[idx] for day in data['dataset_data']['data']]\n",
    "#Since no third party packages are allowed, calculte the average the old fashioned way.\n",
    "average_volume = sum(volume)/len(volume)\n",
    "print('The average daily trading volumne in 2017 was {:.2f}'.format(average_volume))"
   ]
  },
  {
   "cell_type": "markdown",
   "id": "0d352db9",
   "metadata": {},
   "source": [
    "### 7. (Optional) What was the median trading volume during this year. (Note: you may need to implement your own function for calculating the median.)"
   ]
  },
  {
   "cell_type": "code",
   "execution_count": 17,
   "id": "180a45d4",
   "metadata": {},
   "outputs": [
    {
     "name": "stdout",
     "output_type": "stream",
     "text": [
      "The median trading volume in 2017 was 76286.00\n"
     ]
    }
   ],
   "source": [
    "#Sort volume first\n",
    "volume = sorted(volume)\n",
    "#Find the median based on definition of median\n",
    "if len(volume) % 2 == 1:\n",
    "    median_volume = volume[len(volume)//2]\n",
    "else:\n",
    "    median_volume = (volume[len(volume)//2] + volume[len(volume)//2-1]) / 2\n",
    "print('The median trading volume in 2017 was {:.2f}'.format(median_volume))"
   ]
  }
 ],
 "metadata": {
  "kernelspec": {
   "display_name": "Python 3 (ipykernel)",
   "language": "python",
   "name": "python3"
  },
  "language_info": {
   "codemirror_mode": {
    "name": "ipython",
    "version": 3
   },
   "file_extension": ".py",
   "mimetype": "text/x-python",
   "name": "python",
   "nbconvert_exporter": "python",
   "pygments_lexer": "ipython3",
   "version": "3.9.13"
  }
 },
 "nbformat": 4,
 "nbformat_minor": 5
}
